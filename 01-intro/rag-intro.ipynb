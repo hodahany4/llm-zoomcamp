{
 "cells": [
  {
   "cell_type": "code",
   "execution_count": 1,
   "id": "7bee4c2e-32c9-493f-bada-65b95efa4f88",
   "metadata": {},
   "outputs": [
    {
     "name": "stdout",
     "output_type": "stream",
     "text": [
      "--2025-06-03 10:48:49--  https://raw.githubusercontent.com/alexeygrigorev/minsearch/refs/heads/main/minsearch.py\n",
      "Resolving raw.githubusercontent.com (raw.githubusercontent.com)... 185.199.109.133, 185.199.108.133, 185.199.111.133, ...\n",
      "Connecting to raw.githubusercontent.com (raw.githubusercontent.com)|185.199.109.133|:443... connected.\n",
      "WARNING: cannot verify raw.githubusercontent.com's certificate, issued by ‘emailAddress=support@fortinet.com,CN=FG181FTK22900773,OU=Certificate Authority,O=Fortinet,L=Sunnyvale,ST=California,C=US’:\n",
      "  Unable to locally verify the issuer's authority.\n",
      "HTTP request sent, awaiting response... 200 OK\n",
      "Length: 3832 (3.7K) [text/plain]\n",
      "Saving to: ‘minsearch.py.2’\n",
      "\n",
      "minsearch.py.2      100%[===================>]   3.74K  --.-KB/s    in 0.01s   \n",
      "\n",
      "2025-06-03 10:48:50 (386 KB/s) - ‘minsearch.py.2’ saved [3832/3832]\n",
      "\n"
     ]
    }
   ],
   "source": [
    "!wget https://raw.githubusercontent.com/alexeygrigorev/minsearch/refs/heads/main/minsearch.py --no-check-certificate"
   ]
  },
  {
   "cell_type": "code",
   "execution_count": 2,
   "id": "b6ed4d47-d5fd-4a70-aec6-2d8267916112",
   "metadata": {},
   "outputs": [
    {
     "name": "stdout",
     "output_type": "stream",
     "text": [
      "Requirement already satisfied: python-dotenv in /home/hager/home/hager/miniconda33/lib/python3.12/site-packages (1.0.1)\n",
      "Note: you may need to restart the kernel to use updated packages.\n"
     ]
    }
   ],
   "source": [
    "pip install python-dotenv\n"
   ]
  },
  {
   "cell_type": "code",
   "execution_count": 3,
   "id": "aa2214eb-c37b-4da8-a5b5-25186fcbe70f",
   "metadata": {},
   "outputs": [],
   "source": [
    "import minsearch\n",
    "import json\n",
    "from mistralai import Mistral\n",
    "from mistralai.models import UserMessage\n",
    "import httpx"
   ]
  },
  {
   "cell_type": "code",
   "execution_count": 4,
   "id": "37d2ccfd-b0a1-4297-83bf-61e225eb0df1",
   "metadata": {},
   "outputs": [],
   "source": [
    "import os\n",
    "from dotenv import load_dotenv\n"
   ]
  },
  {
   "cell_type": "code",
   "execution_count": 5,
   "id": "945ae316-190a-40c2-b632-72df9ccef78d",
   "metadata": {},
   "outputs": [],
   "source": [
    "with open('documents.json', 'rt') as h_a:\n",
    "    docs_row = json.load(h_a)"
   ]
  },
  {
   "cell_type": "code",
   "execution_count": null,
   "id": "a684cce8-158c-4d54-9e76-9ce82aaa1429",
   "metadata": {},
   "outputs": [],
   "source": [
    "docs_row"
   ]
  },
  {
   "cell_type": "code",
   "execution_count": 7,
   "id": "940928ba-2341-4439-9717-495ba0d93e1b",
   "metadata": {},
   "outputs": [],
   "source": [
    "documents = []\n",
    "\n",
    "for course_dict in docs_row: #Loop through each course\n",
    "    for doc in course_dict['documents']: #Loop through each document inside that course:\n",
    "        doc['course']= course_dict['course'] #Add the course name to each document\n",
    "        documents.append(doc)"
   ]
  },
  {
   "cell_type": "code",
   "execution_count": 8,
   "id": "22f05972-83ab-4e3f-bc63-e281ff13ffee",
   "metadata": {},
   "outputs": [
    {
     "data": {
      "text/plain": [
       "{'text': \"The purpose of this document is to capture frequently asked technical questions\\nThe exact day and hour of the course will be 15th Jan 2024 at 17h00. The course will start with the first  “Office Hours'' live.1\\nSubscribe to course public Google Calendar (it works from Desktop only).\\nRegister before the course starts using this link.\\nJoin the course Telegram channel with announcements.\\nDon’t forget to register in DataTalks.Club's Slack and join the channel.\",\n",
       " 'section': 'General course-related questions',\n",
       " 'question': 'Course - When will the course start?',\n",
       " 'course': 'data-engineering-zoomcamp'}"
      ]
     },
     "execution_count": 8,
     "metadata": {},
     "output_type": "execute_result"
    }
   ],
   "source": [
    "documents[0]"
   ]
  },
  {
   "cell_type": "code",
   "execution_count": 9,
   "id": "430d6e3b-59ec-41b5-91a7-3bd62432fa67",
   "metadata": {},
   "outputs": [],
   "source": [
    "index = minsearch. Index(\n",
    "    text_fields=[\"question\", \"text\", \"section\"],\n",
    "    keyword_fields=[\"course\"] # it's a filter acts like select * from t where course = \"data-engineering-zoomcamp\"\n",
    ")\n"
   ]
  },
  {
   "cell_type": "code",
   "execution_count": 10,
   "id": "f0f2d6e9-c5d9-4ec8-b0d9-e22176e27de0",
   "metadata": {},
   "outputs": [],
   "source": [
    "q = 'the course has already started, can I still enroll?'\n"
   ]
  },
  {
   "cell_type": "code",
   "execution_count": 11,
   "id": "d1bf5380-789b-4ef7-b551-5db2b390e96b",
   "metadata": {},
   "outputs": [
    {
     "data": {
      "text/plain": [
       "<minsearch.Index at 0x75e7942dc320>"
      ]
     },
     "execution_count": 11,
     "metadata": {},
     "output_type": "execute_result"
    }
   ],
   "source": [
    "index.fit(documents)"
   ]
  },
  {
   "cell_type": "code",
   "execution_count": 35,
   "id": "9917d174-e853-47f0-a0a3-428801822d19",
   "metadata": {},
   "outputs": [],
   "source": [
    "def search(query):\n",
    "# give importance to question rather than section\n",
    "    boost = {'question': 3.0, 'section': 0.5}\n",
    "    results  = index.search(\n",
    "        query=query,\n",
    "        filter_dict={'course': 'data-engineering-zoomcamp'}, #optional \n",
    "        boost_dict=boost,\n",
    "        num_results=5    \n",
    "    )\n",
    "    return results"
   ]
  },
  {
   "cell_type": "code",
   "execution_count": 36,
   "id": "82d56951-76ae-4239-b330-979613111da4",
   "metadata": {},
   "outputs": [
    {
     "data": {
      "text/plain": [
       "True"
      ]
     },
     "execution_count": 36,
     "metadata": {},
     "output_type": "execute_result"
    }
   ],
   "source": [
    "load_dotenv()  # This loads variables from .env"
   ]
  },
  {
   "cell_type": "code",
   "execution_count": 37,
   "id": "9d8b4cbd-a866-4888-be03-b8c186fe1112",
   "metadata": {},
   "outputs": [],
   "source": [
    "api_key = os.getenv(\"API_KEY\")"
   ]
  },
  {
   "cell_type": "code",
   "execution_count": 38,
   "id": "5d05a139-d3ce-4d08-8c07-06f21a338a69",
   "metadata": {},
   "outputs": [],
   "source": [
    "client = Mistral(api_key = api_key, client=httpx.Client(verify=False))"
   ]
  },
  {
   "cell_type": "code",
   "execution_count": 39,
   "id": "e559b6ce-b891-4792-ac53-53622b6be8d1",
   "metadata": {},
   "outputs": [
    {
     "data": {
      "text/plain": [
       "'the course has already started, can I still enroll?'"
      ]
     },
     "execution_count": 39,
     "metadata": {},
     "output_type": "execute_result"
    }
   ],
   "source": [
    "q"
   ]
  },
  {
   "cell_type": "code",
   "execution_count": 40,
   "id": "70224e84-ebfd-404e-b659-77e614afe84f",
   "metadata": {},
   "outputs": [],
   "source": [
    "def build_prompt(query, search_results):\n",
    "    prompt_template = \"\"\"\n",
    "You're a course teaching assistant. Answer the QUESTION based on the CONTEXT from the FAQ database.\n",
    "Use only the facts from the CONTEXT when answering the QUESTION.\n",
    "\n",
    "QUESTION: {question}\n",
    "\n",
    "CONTEXT: \n",
    "{context}\n",
    "\"\"\".strip()\n",
    "\n",
    "    context = \"\"\n",
    "    \n",
    "    for doc in search_results:\n",
    "        context = context + f\"section: {doc['section']}\\nquestion: {doc['question']}\\nanswer: {doc['text']}\\n\\n\"\n",
    "    \n",
    "    prompt = prompt_template.format(question=query, context=context).strip()\n",
    "    return prompt"
   ]
  },
  {
   "cell_type": "code",
   "execution_count": 41,
   "id": "b1f6592b-ccd2-4d32-a7a3-16737947fa6b",
   "metadata": {},
   "outputs": [],
   "source": [
    "def llm(prompt):\n",
    "    response = client.chat.complete(\n",
    "        model = \"mistral-large-latest\", \n",
    "        messages = [UserMessage(content=prompt)]\n",
    "    )\n",
    "    return response.choices[0].message.content\n"
   ]
  },
  {
   "cell_type": "code",
   "execution_count": 42,
   "id": "6a8a2010-54e6-49fe-ba21-fae96c0794df",
   "metadata": {},
   "outputs": [],
   "source": [
    "def rag(query):\n",
    "    search_results = search(query)\n",
    "    prompt = build_prompt(query, search_results)\n",
    "    answer = llm(prompt)\n",
    "    return answer"
   ]
  },
  {
   "cell_type": "code",
   "execution_count": 43,
   "id": "4865d31c-fd1a-4d2a-ad1f-126494342d26",
   "metadata": {},
   "outputs": [
    {
     "data": {
      "text/plain": [
       "'To run Kafka, you can follow the instructions provided in the context for both Java and Python environments.\\n\\nFor Java Kafka:\\n1. Navigate to the project directory.\\n2. Run the following command in the terminal:\\n   ```\\n   java -cp build/libs/<jar_name>-1.0-SNAPSHOT.jar:out src/main/java/org/example/JsonProducer.java\\n   ```\\n\\nFor Python Kafka:\\n1. Create a virtual environment and install the necessary packages.\\n   ```\\n   python -m venv env\\n   source env/bin/activate  # For Windows, use: env/Scripts/activate\\n   pip install -r ../requirements.txt\\n   ```\\n2. Ensure that the virtual environment is activated every time you need to run the Python file.\\n   ```\\n   source env/bin/activate  # For Windows, use: env/Scripts/activate\\n   ```\\n3. Make sure all Docker images are up and running before executing the Python file.'"
      ]
     },
     "execution_count": 43,
     "metadata": {},
     "output_type": "execute_result"
    }
   ],
   "source": [
    "query = 'how do I run kafka?'\n",
    "rag(query)"
   ]
  },
  {
   "cell_type": "code",
   "execution_count": 44,
   "id": "3f85742f-18db-4b80-981b-70859ff4a8db",
   "metadata": {},
   "outputs": [
    {
     "data": {
      "text/plain": [
       "\"Yes, you can still enroll in the course even after it has started. Even if you don't register, you're still eligible to submit the homework.\""
      ]
     },
     "execution_count": 44,
     "metadata": {},
     "output_type": "execute_result"
    }
   ],
   "source": [
    "rag('the course has already started, can I still enroll?')"
   ]
  },
  {
   "cell_type": "code",
   "execution_count": null,
   "id": "9d372216-f835-44e1-a040-4d5742974b13",
   "metadata": {},
   "outputs": [],
   "source": []
  }
 ],
 "metadata": {
  "kernelspec": {
   "display_name": "Python 3 (ipykernel)",
   "language": "python",
   "name": "python3"
  },
  "language_info": {
   "codemirror_mode": {
    "name": "ipython",
    "version": 3
   },
   "file_extension": ".py",
   "mimetype": "text/x-python",
   "name": "python",
   "nbconvert_exporter": "python",
   "pygments_lexer": "ipython3",
   "version": "3.12.8"
  }
 },
 "nbformat": 4,
 "nbformat_minor": 5
}
