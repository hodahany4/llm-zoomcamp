{
 "cells": [
  {
   "cell_type": "code",
   "execution_count": 5,
   "id": "a704b300-c27c-48fd-b6b5-21bdfa0dfa60",
   "metadata": {},
   "outputs": [],
   "source": [
    "from mistralai import Mistral\n",
    "from mistralai.models import UserMessage\n",
    "import os\n",
    "import httpx"
   ]
  },
  {
   "cell_type": "code",
   "execution_count": 6,
   "id": "525830f3-8b00-425f-8679-22c3f7e666a6",
   "metadata": {},
   "outputs": [],
   "source": [
    "model = \"mistral-large-latest\""
   ]
  },
  {
   "cell_type": "code",
   "execution_count": 7,
   "id": "2fd947c6-d6e5-4d98-915b-a9f1cd5b237b",
   "metadata": {},
   "outputs": [],
   "source": [
    "client = Mistral(api_key=\"YOUR_API\", client=httpx.Client(verify=False))"
   ]
  },
  {
   "cell_type": "code",
   "execution_count": 8,
   "id": "d08f24e5-5f8b-4f29-b4a3-3113e899585b",
   "metadata": {},
   "outputs": [],
   "source": [
    "chat_response = client.chat.complete(\n",
    "    model = model, \n",
    "    messages=[UserMessage(content=\"is it too late to join the course?\")]\n",
    ")"
   ]
  },
  {
   "cell_type": "code",
   "execution_count": 9,
   "id": "9dabb021-4af3-4761-9307-4e0a610a1118",
   "metadata": {},
   "outputs": [
    {
     "data": {
      "text/plain": [
       "'Whether it\\'s too late to join a course depends on several factors, including the specific policies of the institution or platform offering the course, the current date, and any deadlines that may have been set. Here are some steps you can take to determine if it\\'s too late:\\n\\n1. **Check the Course Website or Syllabus**: Look for information on enrollment deadlines, add/drop periods, or any specific dates mentioned for joining the course.\\n\\n2. **Contact the Instructor or Administrator**: Reach out to the course instructor or the administrative office of the institution. They can provide you with the most accurate and up-to-date information.\\n\\n3. **Review the Platform\\'s Policies**: If the course is offered through an online platform (e.g., Coursera, edX, Udemy), check their policies regarding late enrollment.\\n\\n4. **Check for Late Add/Drop Periods**: Some institutions have a period after the official start date during which students can still enroll. This is often referred to as the \"add/drop period.\"\\n\\n5. **Consider Auditing**: If formal enrollment is no longer possible, some courses allow students to audit, which means you can attend lectures and access materials without receiving credit.\\n\\nIf you provide more specific details about the course or institution, I might be able to give you more tailored advice.'"
      ]
     },
     "execution_count": 9,
     "metadata": {},
     "output_type": "execute_result"
    }
   ],
   "source": [
    "chat_response.choices[0].message.content"
   ]
  },
  {
   "cell_type": "code",
   "execution_count": 10,
   "id": "27038a85-90c2-4b19-92d1-e6853a2a385e",
   "metadata": {},
   "outputs": [
    {
     "name": "stdout",
     "output_type": "stream",
     "text": [
      "Whether it's too late to join a course depends on several factors, including the specific policies of the institution or platform offering the course, the current date, and any deadlines that may have been set. Here are some steps you can take to determine if it's too late:\n",
      "\n",
      "1. **Check the Course Website or Syllabus**: Look for information on enrollment deadlines, add/drop periods, or any specific dates mentioned for joining the course.\n",
      "\n",
      "2. **Contact the Instructor or Administrator**: Reach out to the course instructor or the administrative office of the institution. They can provide you with the most accurate and up-to-date information.\n",
      "\n",
      "3. **Review the Platform's Policies**: If the course is offered through an online platform (e.g., Coursera, edX, Udemy), check their policies regarding late enrollment.\n",
      "\n",
      "4. **Check for Late Add/Drop Periods**: Some institutions have a period after the official start date during which students can still enroll. This is often referred to as the \"add/drop period.\"\n",
      "\n",
      "5. **Consider Auditing**: If formal enrollment is no longer possible, some courses allow students to audit, which means you can attend lectures and access materials without receiving credit.\n",
      "\n",
      "If you provide more specific details about the course or institution, I might be able to give you more tailored advice.\n"
     ]
    }
   ],
   "source": [
    "print(chat_response.choices[0].message.content)"
   ]
  },
  {
   "cell_type": "code",
   "execution_count": null,
   "id": "1124718a-9155-40cc-a9be-befdc9534d9a",
   "metadata": {},
   "outputs": [],
   "source": []
  }
 ],
 "metadata": {
  "kernelspec": {
   "display_name": "Python 3 (ipykernel)",
   "language": "python",
   "name": "python3"
  },
  "language_info": {
   "codemirror_mode": {
    "name": "ipython",
    "version": 3
   },
   "file_extension": ".py",
   "mimetype": "text/x-python",
   "name": "python",
   "nbconvert_exporter": "python",
   "pygments_lexer": "ipython3",
   "version": "3.12.8"
  }
 },
 "nbformat": 4,
 "nbformat_minor": 5
}
