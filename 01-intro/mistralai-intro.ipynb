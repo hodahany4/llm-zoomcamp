{
 "cells": [
  {
   "cell_type": "code",
   "execution_count": 2,
   "id": "a704b300-c27c-48fd-b6b5-21bdfa0dfa60",
   "metadata": {},
   "outputs": [],
   "source": [
    "from mistralai import Mistral\n",
    "from mistralai.models import UserMessage\n",
    "import os\n",
    "import httpx"
   ]
  },
  {
   "cell_type": "code",
   "execution_count": 3,
   "id": "525830f3-8b00-425f-8679-22c3f7e666a6",
   "metadata": {},
   "outputs": [],
   "source": [
    "model = \"mistral-large-latest\""
   ]
  },
  {
   "cell_type": "code",
   "execution_count": 6,
   "id": "2fd947c6-d6e5-4d98-915b-a9f1cd5b237b",
   "metadata": {},
   "outputs": [],
   "source": [
    "client = Mistral(api_key=\"YOUR_API\", client=httpx.Client(verify=False))"
   ]
  },
  {
   "cell_type": "code",
   "execution_count": null,
   "id": "d08f24e5-5f8b-4f29-b4a3-3113e899585b",
   "metadata": {},
   "outputs": [],
   "source": [
    "chat_response = client.chat.complete(\n",
    "    model = model, \n",
    "    messages=[UserMessage(content=\"is it too late to join the course?\")]\n",
    ")"
   ]
  },
  {
   "cell_type": "code",
   "execution_count": null,
   "id": "9dabb021-4af3-4761-9307-4e0a610a1118",
   "metadata": {},
   "outputs": [],
   "source": [
    "chat_response.choices[0].message.content"
   ]
  },
  {
   "cell_type": "code",
   "execution_count": null,
   "id": "27038a85-90c2-4b19-92d1-e6853a2a385e",
   "metadata": {},
   "outputs": [],
   "source": [
    "print(chat_response.choices[0].message.content)"
   ]
  },
  {
   "cell_type": "code",
   "execution_count": null,
   "id": "1124718a-9155-40cc-a9be-befdc9534d9a",
   "metadata": {},
   "outputs": [],
   "source": []
  }
 ],
 "metadata": {
  "kernelspec": {
   "display_name": "Python 3 (ipykernel)",
   "language": "python",
   "name": "python3"
  },
  "language_info": {
   "codemirror_mode": {
    "name": "ipython",
    "version": 3
   },
   "file_extension": ".py",
   "mimetype": "text/x-python",
   "name": "python",
   "nbconvert_exporter": "python",
   "pygments_lexer": "ipython3",
   "version": "3.12.8"
  }
 },
 "nbformat": 4,
 "nbformat_minor": 5
}
